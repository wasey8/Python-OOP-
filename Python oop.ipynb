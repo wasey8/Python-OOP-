{
 "cells": [
  {
   "cell_type": "markdown",
   "metadata": {},
   "source": [
    "# Student Name: Abdul Wasay\n",
    "# Student Id:Fa18-bece-0004\n"
   ]
  },
  {
   "cell_type": "markdown",
   "metadata": {},
   "source": [
    "# 1st Topic: Inheritance\n",
    "Inheritance is one of the pillars of the concepts of object oriented programming. The main purpose of inhertance is to use one class methods and attributes to another class. look at the example below to understand it thoroughly!"
   ]
  },
  {
   "cell_type": "code",
   "execution_count": null,
   "metadata": {},
   "outputs": [],
   "source": [
    "class parent:\n",
    "    def __init__(self,height,weight):\n",
    "        self.height=height\n",
    "        self.weight=weight\n",
    "        \n",
    "    def show(self):\n",
    "        return self.height + self.weight\n",
    "    \n",
    "class children:\n",
    "    def __init__(self,name,height,weight):\n",
    "        parent.__init__(self,height,weight)\n",
    "        self.name=name\n",
    "        \n",
    "    def show(self):\n",
    "        return self.name +\" \"+ self.weight\n",
    "    \n",
    "#We inherited a parent class into a children class\n",
    "    \n",
    "o1=parent(\"5 feet\",\"60 kilos\")\n",
    "o2=children(\"wasey\",\"6 feet\",\"55 kilos\")\n",
    "\n",
    "#We used the same method for both classes because it was inherited. Now you can try it on your own. Happy programming \":)\"\n",
    "print(o1.show())\n",
    "(o2.show()) "
   ]
  },
  {
   "cell_type": "markdown",
   "metadata": {},
   "source": [
    "# 2nd topic: Dhunder or Special methods.\n",
    "Dhunder methods are part of python. Dhunders methods are actually special methods assigned to do some specific job such as addition , Lenght calcultor as so many more. It's used for making your code readible and precise.\n"
   ]
  },
  {
   "cell_type": "code",
   "execution_count": null,
   "metadata": {},
   "outputs": [],
   "source": [
    "#Example :Addition\n",
    "\n",
    "class num:\n",
    "    def __init__(self,num1):\n",
    "        self.num1=num1\n",
    "        \n",
    "    def __add__(self,other):\n",
    "        return self.num1 + other.num1 #Dhunder method\n",
    "    \n",
    "class pum:\n",
    "    def __init__(self,num1):\n",
    "        num.__init__(self,num1) \n",
    "        \n",
    "o=num(3)\n",
    "p=pum(12)\n",
    "print(o.num1 + p.num1)\n",
    "\n"
   ]
  },
  {
   "cell_type": "markdown",
   "metadata": {},
   "source": [
    "# 3rd topic: Polymorphism\n",
    "Polymophism is also one of the four pillars of object oriented programming.Its main concept is to implement parent class mehtods into child class either by method overriding or overloading. Lets have a look at it."
   ]
  },
  {
   "cell_type": "code",
   "execution_count": null,
   "metadata": {},
   "outputs": [],
   "source": [
    "#parent class\n",
    "class politicians:\n",
    "    def __init__(self,name,worth,cs):\n",
    "        self.name=name\n",
    "        self.worth=worth\n",
    "        self.corruptionstatus=cs\n",
    "    \n",
    "    def info(self):\n",
    "        raise NotImplementedError(\"Subclass must implement abstract method\")\n",
    "    \n",
    "#child classes\n",
    "\n",
    "class nawaz( politicians):\n",
    "    def __init__(self,name,worth,cs):\n",
    "        politicians.__init__(self,name,worth,cs)\n",
    "\n",
    "    def info(self):\n",
    "        print( \"Name:\" + self.name +\"\"+ \"Worth:\" + self.worth +\" \"+\"Is he corrupt??\" +  self.corruptionstatus)\n",
    "        \n",
    "class zardari(politicians):\n",
    "    def __init__(self,name,worth,cs):\n",
    "        politicians.__init__(self,name,worth,cs)\n",
    "        \n",
    "    def info(self):\n",
    "        print( \"Name:\" + self.name +\"\"+ \"Worth:\" + self.worth +\" \"+\"Is he corrupt??\" +  self.corruptionstatus)\n",
    "        \n",
    "def kinfo(self):\n",
    "    self.info()\n",
    "\n",
    "n1=nawaz(\"Nawaz sharef \", \"Billions of rupees\",\" He is corrupt\")\n",
    "z1=zardari(\"Zardari \", \" Billions of rupees\",\" He is corrupt\")\n",
    "kinfo(n1)\n",
    "kinfo(z1)\n",
    "    \n"
   ]
  },
  {
   "cell_type": "markdown",
   "metadata": {},
   "source": [
    "# 4rth topic: Exception Handling\n",
    "We use excepetion handling to let errors known. Sometimes it's difficult to understand to reason of errors and we really dont coup with where to find the bug so we use exceptions to clear the ways for us"
   ]
  },
  {
   "cell_type": "code",
   "execution_count": null,
   "metadata": {},
   "outputs": [],
   "source": [
    "class numwoh(Exception): #defining ann exception\n",
    "    pass\n",
    "class ex:\n",
    "    def __init__(self,a=None):\n",
    "        self.a=a\n",
    "        \n",
    "    def show(self):\n",
    "        self.a=int(input(\"Enter number\"))\n",
    "        while True:\n",
    "            try:\n",
    "                if self.a<100 or self.a%2!=0:\n",
    "                    raise numwoh\n",
    "                else:\n",
    "                    print(self.a)\n",
    "                    break\n",
    "            except numwoh:\n",
    "                print(\"Number is less than 100 and an odd number\") #This is how we coup with exceptions\n",
    "                break\n",
    "o=ex()\n",
    "o.show()\n"
   ]
  },
  {
   "cell_type": "markdown",
   "metadata": {},
   "source": [
    "# 5th topic: Compostion\n",
    "Composition is just like inheritance but we donot inherit classes here instead we use the same instance variables in order to make a relationship between classes\n"
   ]
  },
  {
   "cell_type": "code",
   "execution_count": null,
   "metadata": {},
   "outputs": [],
   "source": [
    "#Example1\n",
    "class Circle(object):\n",
    "    color = \"red\"\n",
    "\n",
    "class NewCircle(Circle):\n",
    "    color = \"blue\"\n",
    "\n",
    "nc = NewCircle\n",
    "print(nc.color)\n",
    "\n",
    "#Example2\n",
    "class batsman(object):\n",
    "    health=\"Fit\"\n",
    "\n",
    "class bowler(Circle):\n",
    "    health=\"unFit\"\n",
    "\n",
    "nc = batsman\n",
    "print(nc.health)\n",
    "nqc = bowler\n",
    "print(nqc.health)"
   ]
  },
  {
   "cell_type": "markdown",
   "metadata": {},
   "source": [
    "# 6th topic: Numpy\n",
    "Numpy is a general-purpose array-processing package. It provides a high-performance multidimensional array object, and tools for working with these arrays. It is the fundamental package for scientific computing with Python."
   ]
  },
  {
   "cell_type": "code",
   "execution_count": null,
   "metadata": {},
   "outputs": [],
   "source": [
    "import numpy as np\n",
    "a = np.array([1, 2, 5, 3]) \n",
    "  \n",
    "# multiply each element by 10 \n",
    "print (\"Multiplying each element by 10:\", a*10) \n",
    "  \n",
    "# square each element \n",
    "print (\"Squaring each element:\", a**2) \n",
    "  \n",
    "  \n",
    "#transpose of array \n",
    "a = np.array([[1, 2, 3], [3, 4, 5], [9, 6, 0]]) \n",
    "  \n",
    "print (\"\\nOriginal array:\\n\", a) \n",
    "print (\"Transpose of array:\\n\", a.T) "
   ]
  },
  {
   "cell_type": "markdown",
   "metadata": {},
   "source": [
    "# 7th topic: Lambda Functions (Basic functional programming)\n",
    "Lambda operator or lambda function is used for creating small, one-time and anonymous function objects in Python.\n",
    "Basic syntax\n",
    "lambda arguments : expression\n",
    "lambda operator can have any number of arguments, but it can have only one expression. It cannot contain any statements and it returns a function object which can be assigned to any variable\n"
   ]
  },
  {
   "cell_type": "code",
   "execution_count": null,
   "metadata": {},
   "outputs": [],
   "source": [
    "#Example1\n",
    "b=lambda x: x^3\n",
    "print(b(345))\n",
    "\n",
    "#Example 2\n",
    "listq = [5, 7, 22, 97, 54, 62, 77, 23, 73, 61] \n",
    "a = list(filter(lambda x: (x%2 == 0) , listq)) \n",
    "print(a)\n",
    "\n",
    "#Example 3\n",
    "li = [5, 7, 22, 97, 54, 62, 77, 23, 73, 61] \n",
    "final_list = list(map(lambda x: x*2 , li)) \n",
    "print(final_list)\n",
    "\n",
    "#Example 4\n",
    "a=[1,2,3,4,5]\n",
    "b=list(map(lambda x: x*x*x,a))\n",
    "print(list(b))"
   ]
  },
  {
   "cell_type": "markdown",
   "metadata": {},
   "source": [
    "# 8th topic: Python standard libraries\n",
    "There are many pre defined libraries in python to do specific jobs,we just don't have to make a function everytime instead, we can always import a library.\n"
   ]
  },
  {
   "cell_type": "code",
   "execution_count": 23,
   "metadata": {},
   "outputs": [
    {
     "name": "stdout",
     "output_type": "stream",
     "text": [
      "yes,wasey is good\n",
      "Pakistan is a beautiful country.\n",
      "az shareef is sha\n",
      "deque([])\n"
     ]
    }
   ],
   "source": [
    "import collections  \n",
    "\n",
    "#Example 1\n",
    "\n",
    "a=collections.deque(\"wasey is good\")\n",
    "a.appendleft(\"yes,\") # library for Putting any letter or alphabet in the right most corner\n",
    "out=\"\"\n",
    "num=len(a)\n",
    "for i in range(0,num):\n",
    "    out=out+str(a[i])\n",
    "print(out)\n",
    "\n",
    "#Example2\n",
    "\n",
    "b=collections.deque(\"Pakistan is a beautiful \")\n",
    "b.append(\"country.\") # library for Putting any letter or alphabet in the left most corner\n",
    "pout=\"\"\n",
    "num1=len(b)\n",
    "for i in range(0,num1):\n",
    "    pout=pout+str(b[i])\n",
    "print(pout)\n",
    "\n",
    "#Example 3\n",
    "\n",
    "c=collections.deque(\"Nawaz shareef is shareef\")\n",
    "c.pop()\n",
    "c.pop()\n",
    "c.pop() #Library to remove the the element from right most corner\n",
    "c.pop()\n",
    "c.popleft() #Library to remove the the element from left most corner\n",
    "c.popleft()\n",
    "c.popleft()\n",
    "gout=\"\"\n",
    "num2=len(c)\n",
    "for i in range(0,num2):\n",
    "    gout=gout+str(c[i])\n",
    "print(gout)    \n",
    "\n",
    "#Example 4\n",
    "c.clear() #library to empty a deque\n",
    "print(c)\n"
   ]
  },
  {
   "cell_type": "code",
   "execution_count": null,
   "metadata": {},
   "outputs": [],
   "source": []
  }
 ],
 "metadata": {
  "kernelspec": {
   "display_name": "Python 3",
   "language": "python",
   "name": "python3"
  },
  "language_info": {
   "codemirror_mode": {
    "name": "ipython",
    "version": 3
   },
   "file_extension": ".py",
   "mimetype": "text/x-python",
   "name": "python",
   "nbconvert_exporter": "python",
   "pygments_lexer": "ipython3",
   "version": "3.7.0"
  }
 },
 "nbformat": 4,
 "nbformat_minor": 2
}
